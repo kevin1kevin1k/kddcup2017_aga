{
 "cells": [
  {
   "cell_type": "code",
   "execution_count": 1,
   "metadata": {
    "collapsed": false
   },
   "outputs": [],
   "source": [
    "from src import functions as func\n",
    "import datetime"
   ]
  },
  {
   "cell_type": "markdown",
   "metadata": {},
   "source": [
    "# Volume"
   ]
  },
  {
   "cell_type": "code",
   "execution_count": 2,
   "metadata": {
    "collapsed": false
   },
   "outputs": [],
   "source": [
    "file_suffix = '.csv'\n",
    "path = '../dataSets/training/'  # set the data directory\n",
    "in_file = 'volume(table 6)_training'\n",
    "volumes = func.read_file_to_volumes(path, in_file, file_suffix)\n",
    "out_file = 'volume_validation'"
   ]
  },
  {
   "cell_type": "code",
   "execution_count": 3,
   "metadata": {
    "collapsed": false
   },
   "outputs": [],
   "source": [
    "target_date = '2016-10-11'\n",
    "target_date = datetime.datetime.strptime(target_date, \"%Y-%m-%d\")\n",
    "date_margin = datetime.timedelta(days = 7)\n",
    "target_time = ['08:00','17:00']\n",
    "for i in range(len(target_time)):\n",
    "    target_time[i] = datetime.datetime.strptime(target_time[i], \"%H:%M\")\n",
    "time_margin = datetime.timedelta(hours = 2)"
   ]
  },
  {
   "cell_type": "code",
   "execution_count": 4,
   "metadata": {
    "collapsed": false
   },
   "outputs": [],
   "source": [
    "validation_data = {}\n",
    "time_windows = list(volumes.keys())\n",
    "time_windows.sort()\n",
    "\n",
    "for time_window in time_windows:\n",
    "    if target_date.date() <= time_window.date() <= target_date.date() + date_margin:\n",
    "        for time in target_time:\n",
    "            if time.time() <= time_window.time() <= (time + time_margin).time() :\n",
    "                validation_data[time_window] = volumes[time_window]\n",
    "\n",
    "time_windows = list(validation_data.keys())\n",
    "time_windows.sort()\n",
    "#for k in time_windows:\n",
    "#    print str(k),\" \",validation_data[k]\n",
    "\n",
    "\n",
    "            \n",
    "        "
   ]
  },
  {
   "cell_type": "code",
   "execution_count": 5,
   "metadata": {
    "collapsed": false
   },
   "outputs": [],
   "source": [
    "func.print_volumes(validation_data,out_file,file_suffix)"
   ]
  },
  {
   "cell_type": "markdown",
   "metadata": {},
   "source": [
    "# Travel time"
   ]
  },
  {
   "cell_type": "code",
   "execution_count": 6,
   "metadata": {
    "collapsed": true
   },
   "outputs": [],
   "source": [
    "in_file = 'trajectories(table 5)_training'\n",
    "travel_times = func.read_file_to_travel_times(path, in_file, file_suffix)\n",
    "out_file = 'trajectories_validation'"
   ]
  },
  {
   "cell_type": "code",
   "execution_count": 7,
   "metadata": {
    "collapsed": false
   },
   "outputs": [],
   "source": [
    "validation_data = {}\n",
    "tollgates = list(travel_times.keys())\n",
    "\n",
    "for tollgate in tollgates:\n",
    "    for time in travel_times[tollgate]:\n",
    "        if target_date.date() <= time.date() <= target_date.date() + date_margin:\n",
    "            for target in target_time:\n",
    "                if target.time() <= time.time() < (target + time_margin).time():\n",
    "                    if tollgate not in validation_data:\n",
    "                        validation_data[tollgate] = {}\n",
    "                    validation_data[tollgate][time] = travel_times[tollgate][time]\n",
    "\n",
    "\n",
    "# print validation_data"
   ]
  },
  {
   "cell_type": "code",
   "execution_count": 8,
   "metadata": {
    "collapsed": true
   },
   "outputs": [],
   "source": [
    "func.print_travel_times(validation_data,out_file,file_suffix)"
   ]
  }
 ],
 "metadata": {
  "kernelspec": {
   "display_name": "Python 2",
   "language": "python",
   "name": "python2"
  },
  "language_info": {
   "codemirror_mode": {
    "name": "ipython",
    "version": 2
   },
   "file_extension": ".py",
   "mimetype": "text/x-python",
   "name": "python",
   "nbconvert_exporter": "python",
   "pygments_lexer": "ipython2",
   "version": "2.7.10"
  }
 },
 "nbformat": 4,
 "nbformat_minor": 0
}
