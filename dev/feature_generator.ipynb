{
 "cells": [
  {
   "cell_type": "code",
   "execution_count": null,
   "metadata": {
    "collapsed": true
   },
   "outputs": [],
   "source": [
    "import pandas as pd\n",
    "import datetime\n",
    "import math"
   ]
  },
  {
   "cell_type": "code",
   "execution_count": null,
   "metadata": {
    "collapsed": true
   },
   "outputs": [],
   "source": [
    "intervals_train = [\n",
    "    ('06:00:00', '08:00:00'),\n",
    "    ('15:00:00', '17:00:00')\n",
    "]"
   ]
  },
  {
   "cell_type": "code",
   "execution_count": null,
   "metadata": {
    "collapsed": true
   },
   "outputs": [],
   "source": [
    "def date_parser_wea(strs):\n",
    "    ans = []\n",
    "    for s in strs:\n",
    "        t = datetime.datetime.strptime(s, '%Y-%m-%d')\n",
    "        minute = int(math.floor(t.minute / 20) * 20)\n",
    "        t = datetime.datetime(t.year, t.month, t.day, t.hour, minute, 0)\n",
    "        ans.append(t)\n",
    "    return ans\n",
    "\n",
    "def date_parser_vol(strs):\n",
    "    ans = []\n",
    "    for s in strs:\n",
    "        t = datetime.datetime.strptime(s, '%Y-%m-%d %H:%M:%S')\n",
    "        minute = int(math.floor(t.minute / 20) * 20)\n",
    "        t = datetime.datetime(t.year, t.month, t.day, t.hour, minute, 0)\n",
    "        ans.append(t)\n",
    "    return ans\n",
    "\n",
    "# split datetime to date and time\n",
    "def split_datetime(df):\n",
    "    df_date = df['datetime'].apply(lambda x: x.date()).to_frame()\n",
    "    df_time = df['datetime'].apply(lambda x: x.time()).to_frame()\n",
    "    df_date.rename(index=str, columns={'datetime': 'date'}, inplace=True)\n",
    "    df_time.rename(index=str, columns={'datetime': 'time'}, inplace=True)\n",
    "    df = pd.concat([df_date, df_time, df], axis=1)\n",
    "    df.drop('datetime', axis=1, inplace=True)\n",
    "    df_date = None\n",
    "    df_time = None\n",
    "    return df\n",
    "\n",
    "# Cut the specified dates in [begin, end]\n",
    "def cut_date(df, begin, end):\n",
    "    date_begin = datetime.datetime.strptime(begin, '%Y-%m-%d').date()\n",
    "    date_end = datetime.datetime.strptime(end, '%Y-%m-%d').date()\n",
    "    mask = (df['date'] >= date_begin) & (df['date'] <= date_end)\n",
    "    return df[mask]\n",
    "\n",
    "# Cut the specified time in [begin, end)\n",
    "def cut_time(df, interval):\n",
    "    time_begin = datetime.datetime.strptime(interval[0], '%H:%M:%S').time()\n",
    "    time_end = datetime.datetime.strptime(interval[1], '%H:%M:%S').time()\n",
    "    mask = (df['time'] >= time_begin) & (df['time'] < time_end)\n",
    "    return df[mask]"
   ]
  },
  {
   "cell_type": "code",
   "execution_count": null,
   "metadata": {
    "collapsed": true
   },
   "outputs": [],
   "source": [
    "class Features:\n",
    "    def __init__(self, pathname, filename_wea, filename_vol, filename_tra):\n",
    "        self.df_wea = None\n",
    "        self.df_vol = None\n",
    "        self.pathname = pathname\n",
    "        self.filename_wea = filename_wea\n",
    "        self.filename_vol = filename_vol\n",
    "        self.filename_tra = filename_tra\n",
    "        \n",
    "    def read_wea(self):\n",
    "        self.df_wea = pd.read_csv(self.pathname + self.filename_wea, parse_dates=[0], date_parser=date_parser_wea)\n",
    "    \n",
    "    def read_vol(self):\n",
    "        self.df_vol = pd.read_csv(self.pathname + self.filename_vol, parse_dates=[0], date_parser=date_parser_vol)\n",
    "\n",
    "        mean = self.df_vol['vehicle_type'].mean()\n",
    "        self.df_vol['vehicle_type'].fillna(mean, inplace=True)\n",
    "\n",
    "        self.df_vol.rename(index=str, columns={'time': 'datetime'}, inplace=True)\n",
    "        self.df_vol.sort_values(by=['datetime'], inplace=True)\n",
    "        \n",
    "        self.df_vol = split_datetime(self.df_vol)\n",
    "    \n",
    "    def read_tra(self):\n",
    "        self.df_tra = pd.read_csv('../dataSets/training/trajectories(table 5)_training.csv', parse_dates=[3], date_parser=date_parser_vol)\n",
    "        \n",
    "        self.df_tra.rename(index=str, columns={'starting_time': 'datetime'}, inplace=True)\n",
    "        self.df_tra.drop(['vehicle_id', 'travel_seq'], axis=1, inplace=True)\n",
    "        self.df_tra = split_datetime(self.df_tra)\n",
    "        self.df_tra.sort_values(by=['date', 'time', 'intersection_id', 'tollgate_id'], inplace=True)\n",
    "\n",
    "    def read_all(self):\n",
    "        self.read_wea()\n",
    "        self.read_vol()\n",
    "        self.read_tra()\n",
    "    \n",
    "#     feat.get_wea(dates=['2016-09-20', '2016-09-26'], ampm='am')\n",
    "    def get_wea(self, dates, ampm):\n",
    "        if not isinstance(dates, list) and not isinstance(dates, tuple):\n",
    "            dates = (dates, dates)\n",
    "        \n",
    "        df = cut_date(self.df_wea, dates[0], dates[1])\n",
    "        hour = 6 if ampm == 'am' else 15\n",
    "        df = df[df['hour'] == hour]\n",
    "        df.drop(['date', 'hour'], axis=1, inplace=True)\n",
    "        return df.values[0]\n",
    "\n",
    "#     feat.get_vol(dates=['2016-09-20', '2016-09-26'], ampm='am', toll=1, dire=0)\n",
    "    def get_vol(self, dates, ampm, toll, dire):\n",
    "        if not isinstance(dates, list) and not isinstance(dates, tuple):\n",
    "            dates = (dates, dates)\n",
    "        \n",
    "        df = cut_date(self.df_vol, dates[0], dates[1])\n",
    "        idx = 0 if ampm == 'am' else 1\n",
    "        df = cut_time(df, intervals_train[idx])\n",
    "        mask = (df['tollgate_id'] == toll) & (df['direction'] == dire)\n",
    "        return df[mask]\n",
    "    \n",
    "#     feat.get_tra(dates=['2016-09-20', '2016-09-26'], ampm='am', inte='A', toll=2)\n",
    "    def get_tra(self, dates, ampm, inte, toll):\n",
    "        if not isinstance(dates, list) and not isinstance(dates, tuple):\n",
    "            dates = (dates, dates)\n",
    "        \n",
    "        df = cut_date(self.df_tra, dates[0], dates[1])\n",
    "        idx = 0 if ampm == 'am' else 1\n",
    "        df = cut_time(df, intervals_train[idx])\n",
    "        mask = (df['intersection_id'] == inte) & (df['tollgate_id'] == toll)\n",
    "        return df[mask]\n"
   ]
  },
  {
   "cell_type": "code",
   "execution_count": null,
   "metadata": {},
   "outputs": [],
   "source": [
    "feat = Features(\n",
    "    '../dataSets/training/',\n",
    "    'weather (table 7)_training.csv',\n",
    "    'volume(table 6)_training.csv',\n",
    "    '../dataSets/training/trajectories(table 5)_training.csv'\n",
    ")\n",
    "\n",
    "feat.read_all()"
   ]
  },
  {
   "cell_type": "code",
   "execution_count": null,
   "metadata": {
    "collapsed": true
   },
   "outputs": [],
   "source": []
  }
 ],
 "metadata": {
  "kernelspec": {
   "display_name": "Python 2",
   "language": "python",
   "name": "python2"
  },
  "language_info": {
   "codemirror_mode": {
    "name": "ipython",
    "version": 2
   },
   "file_extension": ".py",
   "mimetype": "text/x-python",
   "name": "python",
   "nbconvert_exporter": "python",
   "pygments_lexer": "ipython2",
   "version": "2.7.11"
  }
 },
 "nbformat": 4,
 "nbformat_minor": 2
}
