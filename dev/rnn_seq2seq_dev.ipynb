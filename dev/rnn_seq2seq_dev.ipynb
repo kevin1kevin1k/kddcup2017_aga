{
 "cells": [
  {
   "cell_type": "markdown",
   "metadata": {
    "hideCode": false,
    "hidePrompt": false
   },
   "source": [
    "# Notes:\n",
    "    1.How to use sample weight?\n",
    "    2.Use times other than target?\n",
    "    "
   ]
  },
  {
   "cell_type": "code",
   "execution_count": 65,
   "metadata": {
    "collapsed": false,
    "hideCode": false,
    "hidePrompt": false
   },
   "outputs": [],
   "source": [
    "import matplotlib.pyplot as plt\n",
    "import pandas as pd\n",
    "import math\n",
    "import sys\n",
    "from src import functions as func\n",
    "from src import feagen as feag\n",
    "import datetime\n",
    "import numpy as np\n",
    "from datetime import datetime,timedelta\n",
    "from keras.models import Sequential\n",
    "from keras.layers import Input, Dense,LSTM,Activation,RepeatVector\n",
    "from keras.layers.core import Flatten,Dropout\n",
    "from keras.layers.wrappers import TimeDistributed\n",
    "from sklearn import preprocessing\n",
    "import keras\n",
    "%matplotlib inline\n",
    "\n",
    "task = 'am'\n",
    "target = 'B-1'\n",
    "\n",
    "if task == 'am':\n",
    "    window_start = datetime.strptime('2016-10-18 08:00:00', \"%Y-%m-%d %H:%M:%S\")\n",
    "elif task == 'pm':\n",
    "    window_start = datetime.strptime('2016-10-18 17:00:00', \"%Y-%m-%d %H:%M:%S\")\n",
    "else:\n",
    "    sys.exit(\"Usage : Only am or pm for <task>\")\n",
    "    \n",
    "windows = []\n",
    "for d in range(7):\n",
    "    for t in range(6):\n",
    "        windows.append('\\\"['+str(window_start +timedelta(minutes=20*t))+','+ str(window_start +timedelta(minutes=20*(t+1)))+')\\\"')\n",
    "    window_start  += timedelta(days=1)\n",
    "\n",
    "def create_dataset(dataset,lookback = 1):\n",
    "    dataX,dataY = [],[]\n",
    "    for day in dataset:\n",
    "        a = day[:6,0]\n",
    "        b = day[6:,0]\n",
    "        dataX.append(a)\n",
    "        dataY.append(b)\n",
    "    return np.array(dataX), np.array(dataY)\n",
    "\n",
    "def create_testset(dataset,lookback=6):\n",
    "    dataX = []\n",
    "    for day in dataset:\n",
    "        a = day[:6,0]\n",
    "        dataX.append(a)\n",
    "    return np.array(dataX)\n",
    "\n",
    "    \n",
    "    \n",
    "\n",
    "def my_mape(label,pred):\n",
    "    c = 0.0\n",
    "    mae = 0.0\n",
    "    for (l,p) in zip(label.flatten(),pred.flatten()):\n",
    "        if l != 0:\n",
    "            mae += abs(l-p)/l\n",
    "            c += 1\n",
    "    return mae/c,c"
   ]
  },
  {
   "cell_type": "markdown",
   "metadata": {
    "hideCode": false,
    "hidePrompt": false
   },
   "source": [
    "# Load data"
   ]
  },
  {
   "cell_type": "code",
   "execution_count": 66,
   "metadata": {
    "collapsed": false,
    "hideCode": false,
    "hidePrompt": false
   },
   "outputs": [
    {
     "name": "stdout",
     "output_type": "stream",
     "text": [
      "['B-3', 'B-1', 'A-3', 'A-2', 'C-3', 'C-1']\n",
      "2016-10-11 08:00:00 [71.35, 101.77]\n",
      "2016-10-11 08:20:00 [108.03999999999999, 146.16]\n",
      "2016-10-11 08:40:00 [87.46000000000001, 87.71000000000001]\n",
      "2016-10-11 09:00:00 [173.41, 93.14]\n",
      "2016-10-11 09:20:00 [141.82, 111.16, 115.4, 112.78]\n",
      "2016-10-11 09:40:00 [71.0, 74.63, 85.6, 94.94, 143.52]\n",
      "2016-10-12 08:00:00 [116.97, 117.68]\n",
      "2016-10-12 08:20:00 [154.39, 62.46, 95.46000000000001, 437.73, 170.52]\n",
      "2016-10-12 08:40:00 [129.35, 82.95, 117.67, 94.56]\n",
      "2016-10-12 09:00:00 [101.15]\n",
      "2016-10-12 09:20:00 [95.93, 131.03, 99.03999999999999, 203.72]\n",
      "2016-10-12 09:40:00  None\n",
      "2016-10-13 08:00:00 [126.75, 107.9]\n",
      "2016-10-13 08:20:00 [153.76, 85.26, 115.35, 93.38, 97.0, 161.85, 129.41]\n",
      "2016-10-13 08:40:00 [110.98]\n",
      "2016-10-13 09:00:00  None\n",
      "2016-10-13 09:20:00 [109.39]\n",
      "2016-10-13 09:40:00 [96.7, 113.75, 141.19, 246.51999999999998, 143.7, 136.55]\n",
      "2016-10-14 08:00:00 [109.49, 146.57, 88.13, 143.35]\n",
      "2016-10-14 08:20:00 [108.55, 92.22, 129.77, 91.69, 166.17000000000002, 82.11]\n",
      "2016-10-14 08:40:00 [107.5, 100.45, 148.55, 105.22, 138.97]\n",
      "2016-10-14 09:00:00  None\n",
      "2016-10-14 09:20:00 [113.07, 108.3, 103.2]\n",
      "2016-10-14 09:40:00 [113.81, 118.12]\n",
      "2016-10-15 08:00:00 [170.64, 130.95]\n",
      "2016-10-15 08:20:00 [112.21000000000001, 150.07999999999998, 156.81]\n",
      "2016-10-15 08:40:00 [184.47, 108.71000000000001, 119.12, 123.5]\n",
      "2016-10-15 09:00:00 [102.63, 106.92, 192.82]\n",
      "2016-10-15 09:20:00 [120.69, 121.50999999999999, 136.81]\n",
      "2016-10-15 09:40:00 [110.91, 151.52, 140.59, 113.91]\n",
      "2016-10-16 08:00:00 [140.39, 64.39, 133.47]\n",
      "2016-10-16 08:20:00 [108.22, 97.42]\n",
      "2016-10-16 08:40:00 [170.92000000000002, 105.56]\n",
      "2016-10-16 09:00:00 [123.55, 146.27]\n",
      "2016-10-16 09:20:00 [110.99, 137.09, 136.51, 100.86]\n",
      "2016-10-16 09:40:00 [91.78999999999999, 102.62]\n",
      "2016-10-17 08:00:00 [100.78, 116.48]\n",
      "2016-10-17 08:20:00 [115.41]\n",
      "2016-10-17 08:40:00 [117.13, 74.17, 106.89, 157.64, 117.14]\n",
      "2016-10-17 09:00:00 [64.78]\n",
      "2016-10-17 09:20:00 [108.23]\n",
      "2016-10-17 09:40:00 [69.03999999999999, 175.79000000000002]\n"
     ]
    }
   ],
   "source": [
    "\n",
    "win_6 = (6-6)*3\n",
    "win_8 = (8-6)*3\n",
    "win_10 = (10-6)*3\n",
    "win_15 = (15-6)*3\n",
    "win_17 = (17-6)*3\n",
    "win_19 = (19-6)*3\n",
    "\n",
    "if task == 'am':\n",
    "    x_range = range(win_6,win_8)\n",
    "    y_range = range(win_8,win_10)\n",
    "    xy_range = range(win_6,win_10)\n",
    "else:\n",
    "    x_range = range(win_15,win_17)\n",
    "    y_range = range(win_17,win_19)\n",
    "    xy_range = range(win_15,win_19)\n",
    "\n",
    "#Read training data\n",
    "path = '../dataSets/training/'\n",
    "file_suffix = '.csv'\n",
    "in_file = 'trajectories(table 5)_training'\n",
    "travel_times = func.read_file_to_travel_times(path, in_file, file_suffix)\n",
    "\n",
    "\n",
    "#Read testing data\n",
    "path = '../dataSets/testing_phase1/'\n",
    "file_suffix = '.csv'\n",
    "in_file = 'trajectories(table 5)_test1'\n",
    "testing_times = func.read_file_to_travel_times(path, in_file, file_suffix)\n",
    "\n",
    "#merge them into one dict\n",
    "routes =  travel_times.keys()\n",
    "for r in routes:\n",
    "    travel_times[r].update(testing_times[r])\n",
    "\n",
    "total_weeks = 6 # ?(train) + 1(valid) + 1(test), take off 10/1~7\n",
    "training_weeks = total_weeks-2\n",
    "testing_weeks = total_weeks-1\n",
    "num_instance = total_weeks*7 # 13 weeks\n",
    "num_window = 13*3 # 6 ~ 19\n",
    "routes = travel_times.keys()\n",
    "print routes\n",
    "window_size = timedelta(minutes=20)\n",
    "window_start = datetime.strptime('2016-09-13 06:00:00', \"%Y-%m-%d %H:%M:%S\")\n",
    "window_end = datetime.strptime('2016-09-13 19:00:00', \"%Y-%m-%d %H:%M:%S\")\n",
    "\n",
    "\n",
    "cube_2d = np.zeros((num_instance*num_window))\n",
    "\n",
    "d=0\n",
    "while d < num_instance:\n",
    "    window_scanner = window_start\n",
    "    for t in range(num_window):\n",
    "        if str(window_scanner.date())>='2016-10-11' and str(window_scanner.date())<='2016-10-17' and str(window_scanner.time())>='08:00:00' and str(window_scanner.time())<'10:00:00' :\n",
    "            print str(window_scanner),\n",
    "            try:\n",
    "                print travel_times[target][window_scanner]\n",
    "            except:\n",
    "                print ' None'\n",
    "        try:\n",
    "            cube_2d[d*39+t] = np.mean(travel_times[target][window_scanner])\n",
    "        except:\n",
    "            cube_2d[d*39+t] = 0\n",
    "        window_scanner += window_size\n",
    "    window_start += timedelta(days=1)\n",
    "    d += 1\n"
   ]
  },
  {
   "cell_type": "markdown",
   "metadata": {
    "hideCode": false,
    "hidePrompt": false
   },
   "source": [
    "# Feature Engineering"
   ]
  },
  {
   "cell_type": "code",
   "execution_count": 67,
   "metadata": {
    "collapsed": false,
    "hideCode": false,
    "hidePrompt": false
   },
   "outputs": [
    {
     "name": "stdout",
     "output_type": "stream",
     "text": [
      "Train data: (28, 1, 6) (28, 1, 6)\n",
      "Valid data: (7, 1, 6) (7, 6)\n",
      "Test data: (7, 1, 6)\n",
      "Valid non-zero 39\n",
      "Test non-zero: 35\n"
     ]
    }
   ],
   "source": [
    "# Missing value inputation....\n",
    "### to be done\n",
    "# Normalize\n",
    "cube_2d = cube_2d.reshape(-1, 1)\n",
    "scaler = preprocessing.MinMaxScaler(feature_range=(0, 1))\n",
    "normed = scaler.fit_transform(cube_2d)\n",
    "#normed = preprocessing.normalize(cube_2d,axis=0)\n",
    "\n",
    "cube_3d = np.zeros((num_instance,num_window,1))\n",
    "for d in range(num_instance):\n",
    "    for t in range(num_window):\n",
    "        cube_3d[d][t][0] = normed[d*39+t]\n",
    "\n",
    "train = cube_3d[:training_weeks*7,xy_range,:]\n",
    "valid = cube_3d[training_weeks*7:testing_weeks*7,xy_range,:]\n",
    "\n",
    "test = cube_3d[testing_weeks*7:,x_range,:]\n",
    "\n",
    "\n",
    "look_back = 6\n",
    "\n",
    "trX, trY = create_dataset(train, look_back)\n",
    "valX,valY = create_dataset(valid,look_back)\n",
    "ttX = create_testset(test,look_back)\n",
    "\n",
    "\n",
    "trX = np.reshape(trX, (trX.shape[0], 1,trX.shape[1]))\n",
    "valX = np.reshape(valX, (valX.shape[0], 1, valX.shape[1]))\n",
    "trY = np.reshape(trY, (trY.shape[0], 1,trY.shape[1]))\n",
    "ttX = np.reshape(ttX, (ttX.shape[0], 1,ttX.shape[1]))\n",
    "\n",
    "\n",
    "\n",
    "print 'Train data:',trX.shape,trY.shape\n",
    "print 'Valid data:',valX.shape,valY.shape\n",
    "print 'Test data:',ttX.shape\n",
    "print 'Valid non-zero',np.count_nonzero(valY.flatten())\n",
    "print 'Test non-zero:',np.count_nonzero(test)\n",
    "\n"
   ]
  },
  {
   "cell_type": "code",
   "execution_count": 68,
   "metadata": {
    "collapsed": false,
    "hideCode": false,
    "hidePrompt": false
   },
   "outputs": [],
   "source": [
    "\n",
    "def record(model,scaler,mape,count,step,task,target,test,LSTM_out,training_weeks,windows):\n",
    "    #record mape\n",
    "    with open('./rnn_record/'+str(training_weeks)+'w_'+target+task+'.txt','w') as record:\n",
    "        record.write('Mape :'+str(mape))\n",
    "        record.write(' Count :'+str(count))\n",
    "        record.write(' Epoch:'+str(step))\n",
    "        record.write(' LSTM out :'+str(LSTM_out)+'\\n')\n",
    "    #make prediction file\n",
    "    with open('./rnn_record/'+str(training_weeks)+'w_'+target+task+'.csv','w') as record:\n",
    "        record.write('\\\"intersection_id\\\",\\\"tollgate_id\\\",\\\"time_window\\\",\\\"avg_travel_time\\\"\\n')\n",
    "        flag = 0\n",
    "        for day in range(7):\n",
    "            ttX = np.array(test[day,:,:])\n",
    "            ttX = np.reshape(ttX,(1,1,6))\n",
    "            for i in range(6):\n",
    "                record.write(target.split('-')[0]+',')\n",
    "                record.write(target.split('-')[1]+',')\n",
    "                record.write(windows[flag]+',')\n",
    "                flag +=1\n",
    "                #predict\n",
    "                pred = model.predict(ttX)\n",
    "                ttX = np.append(ttX[0,0,1:],pred)\n",
    "                ttX = np.reshape(ttX,(1,1,6))\n",
    "                record.write(str(scaler.inverse_transform(pred).flatten()[0])+'\\n')"
   ]
  },
  {
   "cell_type": "markdown",
   "metadata": {
    "hideCode": false,
    "hidePrompt": false
   },
   "source": [
    "# Model"
   ]
  },
  {
   "cell_type": "code",
   "execution_count": 69,
   "metadata": {
    "collapsed": false,
    "hideCode": false,
    "hidePrompt": false
   },
   "outputs": [
    {
     "name": "stdout",
     "output_type": "stream",
     "text": [
      "(28, 1, 6)\n"
     ]
    }
   ],
   "source": [
    "print trX.shape"
   ]
  },
  {
   "cell_type": "code",
   "execution_count": 70,
   "metadata": {
    "collapsed": false,
    "hideCode": false,
    "hidePrompt": false
   },
   "outputs": [
    {
     "name": "stdout",
     "output_type": "stream",
     "text": [
      "Doing route  B-1  Hidden size  12 10 12\n",
      "Step  10  valid score :  0.89857287466\n",
      "Step  20  valid score :  0.782591016493\n",
      "Step  30  valid score :  0.640299900672\n",
      "Step  40  valid score :  0.463901863752\n",
      "Step  50  valid score :  0.287007007281\n",
      "Step  60  valid score :  0.1786589677\n",
      "Step  70  valid score :  0.166731439799\n",
      "Step  80  valid score :  0.156438721505\n",
      "Step  90  valid score :  0.141376678052\n",
      "Step  100  valid score :  0.142240374909\n",
      "Step  110  valid score :  0.143388798787\n",
      "Step  120  valid score :  0.145245355143\n",
      "Step  130  valid score :  0.14352985737\n",
      "Step  140  valid score :  0.145248327744\n",
      "Step  150  valid score :  0.145329820535\n",
      "Step  160  valid score :  0.144806326882\n",
      "Step  170  valid score :  0.144915192864\n",
      "Step  180  valid score :  0.145061081013\n",
      "Step  190  valid score :  0.145262090883\n",
      "Step  200  valid score :  0.145807295285\n",
      "Step  210  valid score :  0.145947256162\n",
      "Step  220  valid score :  0.145836080832\n",
      "Step  230  valid score :  0.146286215226\n",
      "Step  240  valid score :  0.146965703248\n",
      "Step  250  valid score :  0.147451729332\n",
      "Step  260  valid score :  0.147365473678\n",
      "Step  270  valid score :  0.147509531455\n",
      "Step  280  valid score :  0.14784903396\n",
      "Step  290  valid score :  0.147822223312\n",
      "Step  300  valid score :  0.148930061127\n",
      "Step  310  valid score :  0.149380853827\n",
      "Step  320  valid score :  0.14965370264\n",
      "Step  330  valid score :  0.149569118312\n",
      "Step  340  valid score :  0.150338259877\n",
      "Step  350  valid score :  0.150517423257\n",
      "Step  360  valid score :  0.15051148209\n",
      "Step  370  valid score :  0.151171416168\n",
      "Step  380  valid score :  0.151256943674\n",
      "Step  390  valid score :  0.152083635978\n",
      "Step  400  valid score :  0.15265011109\n",
      "Step  410  valid score :  0.153836718165\n",
      "Step  420  valid score :  0.155146556807\n",
      "Step  430  valid score :  0.156133770807\n",
      "Step  440  valid score :  0.157884355448\n",
      "Step  450  valid score :  0.159991104589\n",
      "Step  460  valid score :  0.160512260965\n",
      "Step  470  valid score :  0.161372524451\n",
      "Step  480  valid score :  0.162935522328\n",
      "Step  490  valid score :  0.162914951553\n",
      "Step  500  valid score :  0.163120856917\n",
      "Best mape =  0.141376678052\n"
     ]
    }
   ],
   "source": [
    "epoch = 500\n",
    "diplay = 10\n",
    "step = epoch/diplay\n",
    "layer1_dim = 12\n",
    "layer2_dim = 10\n",
    "layer3_dim = 12\n",
    "input_size = trX.shape\n",
    "best = 0.3\n",
    "max_out_seq_len = 6\n",
    "adam = keras.optimizers.Adam(lr=0.001, decay=1e-6)\n",
    "    \n",
    "\n",
    "# create and fit the LSTM network\n",
    "print \"Doing route \",target,' Hidden size ',layer1_dim,layer2_dim,layer3_dim\n",
    "model = Sequential()\n",
    "\n",
    "model.add(LSTM(layer1_dim,input_shape=(1,trX.shape[2]), return_sequences=False))\n",
    "model.add(Dense(layer2_dim, activation=\"relu\"))\n",
    "model.add(RepeatVector(1))\n",
    "model.add(LSTM(layer3_dim, return_sequences=True))\n",
    "model.add(TimeDistributed(Dense(trX.shape[2], activation=None)))\n",
    "model.compile(loss=\"mae\", optimizer=adam)\n",
    "\n",
    "\n",
    "loss = []\n",
    "for i in range(step):\n",
    "    hist = model.fit(trX, trY, epochs=diplay, verbose=0)\n",
    "    pred = model.predict(valX)\n",
    "    mape,count = my_mape(valY,pred)\n",
    "    loss.append(hist.history['loss'])\n",
    "    print 'Step ',(i+1)*diplay,' valid score : ',mape\n",
    "    if best > mape:\n",
    "        best = mape\n",
    "        #record(model,scaler,mape,count,(i+1)*diplay,task,target,test,LSTM_out,training_weeks,windows)\n",
    "print 'Best mape = ',best\n",
    "#print model.predict(valX)\n",
    "\n",
    "    \n",
    "    \n",
    "    \n",
    "\n"
   ]
  },
  {
   "cell_type": "code",
   "execution_count": 71,
   "metadata": {
    "collapsed": false,
    "hideCode": false,
    "hidePrompt": false
   },
   "outputs": [
    {
     "data": {
      "text/plain": [
       "[<matplotlib.lines.Line2D at 0x117438bd0>,\n",
       " <matplotlib.lines.Line2D at 0x117438e50>,\n",
       " <matplotlib.lines.Line2D at 0x1174450d0>,\n",
       " <matplotlib.lines.Line2D at 0x117445290>,\n",
       " <matplotlib.lines.Line2D at 0x117445450>,\n",
       " <matplotlib.lines.Line2D at 0x117445610>,\n",
       " <matplotlib.lines.Line2D at 0x1174457d0>,\n",
       " <matplotlib.lines.Line2D at 0x15007f750>,\n",
       " <matplotlib.lines.Line2D at 0x117445b50>,\n",
       " <matplotlib.lines.Line2D at 0x117445d10>]"
      ]
     },
     "execution_count": 71,
     "metadata": {},
     "output_type": "execute_result"
    },
    {
     "data": {
      "image/png": "[encoded data removed]",
      "text/plain": [
       "<matplotlib.figure.Figure at 0x136cadd10>"
      ]
     },
     "metadata": {},
     "output_type": "display_data"
    }
   ],
   "source": [
    "plt.cla()\n",
    "plt.plot(loss)"
   ]
  },
  {
   "cell_type": "code",
   "execution_count": 75,
   "metadata": {
    "collapsed": false,
    "hideOutput": true
   },
   "outputs": [
    {
     "name": "stdout",
     "output_type": "stream",
     "text": [
      "(7, 6)\n",
      "[ 122.67771149  133.24873352  100.97615814  126.58989716  102.55397034\n",
      "  132.1566925   128.71554565  123.1078186   113.4261322   129.04116821\n",
      "  103.81758118  125.82540131  128.37702942  135.94543457  103.22322083\n",
      "  133.96566772  100.42305756  134.1678009   129.10804749  124.37378693\n",
      "  123.5542984   126.81556702  114.94237518  124.42448425  128.86433411\n",
      "  116.38199615  123.45081329  125.00163269  108.93902588  121.27199554\n",
      "  122.1749115   115.43099976  118.98014832  117.03385162  111.16542053\n",
      "  120.0302124   121.28703308  134.67434692   95.70235443  126.39608002\n",
      "   99.3536911   133.69346619]\n"
     ]
    }
   ],
   "source": [
    "pred = model.predict(ttX)\n",
    "pred = np.reshape(pred,(pred.shape[0],pred.shape[2]))\n",
    "print pred.shape\n",
    "print scaler.inverse_transform(pred).flatten()"
   ]
  },
  {
   "cell_type": "code",
   "execution_count": 56,
   "metadata": {
    "collapsed": false,
    "hideCode": false,
    "hidePrompt": false
   },
   "outputs": [
    {
     "name": "stdout",
     "output_type": "stream",
     "text": [
      "[ 123.32791138  123.86416626  119.44670868  123.90890503  110.3468399\n",
      "  125.33629608]\n"
     ]
    }
   ],
   "source": [
    "print scaler.inverse_transform(pred[0]).flatten()"
   ]
  },
  {
   "cell_type": "code",
   "execution_count": null,
   "metadata": {
    "collapsed": true
   },
   "outputs": [],
   "source": []
  }
 ],
 "metadata": {
  "hide_code_all_hidden": false,
  "kernelspec": {
   "display_name": "Python 2",
   "language": "python",
   "name": "python2"
  },
  "language_info": {
   "codemirror_mode": {
    "name": "ipython",
    "version": 2
   },
   "file_extension": ".py",
   "mimetype": "text/x-python",
   "name": "python",
   "nbconvert_exporter": "python",
   "pygments_lexer": "ipython2",
   "version": "2.7.10"
  }
 },
 "nbformat": 4,
 "nbformat_minor": 0
}
