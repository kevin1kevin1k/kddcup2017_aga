{
 "cells": [
  {
   "cell_type": "code",
   "execution_count": 1,
   "metadata": {},
   "outputs": [
    {
     "name": "stderr",
     "output_type": "stream",
     "text": [
      "Using TensorFlow backend.\n"
     ]
    }
   ],
   "source": [
    "import pandas as pd\n",
    "from datetime import datetime,timedelta\n",
    "import math\n",
    "import keras\n",
    "from keras.wrappers.scikit_learn import KerasRegressor\n",
    "import numpy as np\n",
    "import src.functions as func\n",
    "from src import feagen\n",
    "from sklearn.svm import SVR\n",
    "\n",
    "feat = feagen.Features(\n",
    "        '../dataSets/training/',\n",
    "        'weather (table 7)_training.csv',\n",
    "        'volume(table 6)_training.csv',\n",
    "        'trajectories(table 5)_training.csv'\n",
    "    )\n"
   ]
  },
  {
   "cell_type": "code",
   "execution_count": 2,
   "metadata": {},
   "outputs": [],
   "source": [
    "\n",
    "\n",
    "# Data Setting\n",
    "train_dates = ('2016-09-19', '2016-10-10')\n",
    "valid_dates = ('2016-10-11', '2016-10-17')\n",
    "test_dates = ('2016-10-18', '2016-10-24')\n",
    "\n",
    "\n",
    "vol_in_dim = 205\n",
    "tra_in_dim = 98\n",
    "\n",
    "\n",
    "# Model Setting\n",
    "hidden_layer = 1\n",
    "hidden_dim = [20]\n",
    "out_dim = 1\n",
    "act_func = ['relu']\n",
    "\n",
    "# Training Parameters\n",
    "epoch = 1000\n",
    "batch = 128\n",
    "\n"
   ]
  },
  {
   "cell_type": "code",
   "execution_count": 3,
   "metadata": {},
   "outputs": [
    {
     "name": "stderr",
     "output_type": "stream",
     "text": [
      "src/functions.py:173: UserWarning: Update your `Dense` call to the Keras 2 API: `Dense(20, activation=\"relu\", kernel_initializer=\"normal\", input_dim=205)`\n",
      "  model.add(Dense(hide_layer_dim[0], input_dim=in_dim, init='normal', activation=act_func[0]))\n",
      "src/functions.py:179: UserWarning: Update your `Dense` call to the Keras 2 API: `Dense(1, activation=\"linear\", kernel_initializer=\"normal\")`\n",
      "  model.add(Dense(out_dim, init='normal', activation='linear'))\n",
      "/usr/local/lib/python2.7/site-packages/keras/models.py:826: UserWarning: The `nb_epoch` argument in `fit` has been renamed `epochs`.\n",
      "  warnings.warn('The `nb_epoch` argument in `fit` '\n",
      "src/functions.py:173: UserWarning: Update your `Dense` call to the Keras 2 API: `Dense(20, activation=\"relu\", kernel_initializer=\"normal\", input_dim=98)`\n",
      "  model.add(Dense(hide_layer_dim[0], input_dim=in_dim, init='normal', activation=act_func[0]))\n"
     ]
    },
    {
     "data": {
      "text/plain": [
       "<keras.callbacks.History at 0x11ca54e50>"
      ]
     },
     "execution_count": 3,
     "metadata": {},
     "output_type": "execute_result"
    }
   ],
   "source": [
    "\n",
    "tr_x, tr_y = feat.get_vol_Xy(dates=train_dates, ampm='am')\n",
    "# print sum(np.isnan(tr_x))\n",
    "tr_x = np.nan_to_num(tr_x)\n",
    "\n",
    "#clf = SVR(C=1.0, epsilon=0.2)\n",
    "#clf.fit(tr_x, tr_y)\n",
    "am_vol_NN = func.gen_model(vol_in_dim,hidden_layer,hidden_dim, out_dim, act_func)\n",
    "am_vol_NN.compile(loss='mse', optimizer='adam')\n",
    "am_vol_NN.fit(tr_x,tr_y,nb_epoch=epoch, batch_size=batch,verbose=0)\n",
    "\n",
    "\n",
    "tr_x, tr_y = feat.get_vol_Xy(dates=train_dates, ampm='pm')\n",
    "#print sum(tr_x<0)\n",
    "pm_vol_NN = func.gen_model(vol_in_dim,hidden_layer,hidden_dim, out_dim, act_func)\n",
    "pm_vol_NN.compile(loss='mse', optimizer='adam')\n",
    "pm_vol_NN.fit(tr_x,tr_y,nb_epoch=epoch, batch_size=batch,verbose=0)\n",
    "\n",
    "tr_x, tr_y = feat.get_tra_Xy(dates=train_dates, ampm='am')\n",
    "#print sum(np.isnan(tr_x))\n",
    "am_tra_NN = func.gen_model(tra_in_dim,hidden_layer,hidden_dim, out_dim, act_func)\n",
    "am_tra_NN.compile(loss='mse', optimizer='adam')\n",
    "am_tra_NN.fit(tr_x,tr_y,nb_epoch=epoch, batch_size=batch,verbose=0)\n",
    "\n",
    "tr_x, tr_y = feat.get_tra_Xy(dates=train_dates, ampm='pm')\n",
    "pm_tra_NN = func.gen_model(tra_in_dim,hidden_layer,hidden_dim, out_dim, act_func)\n",
    "pm_tra_NN.compile(loss='mse', optimizer='adam')\n",
    "pm_tra_NN.fit(tr_x,tr_y,nb_epoch=epoch, batch_size=batch,verbose=0)\n",
    "\n"
   ]
  },
  {
   "cell_type": "code",
   "execution_count": 5,
   "metadata": {},
   "outputs": [
    {
     "name": "stdout",
     "output_type": "stream",
     "text": [
      "Volume AM valid score : 0.359749822717\n",
      "Volume PM valid score : 9.26935512416\n",
      "Volume overall valid score : 4.81455247344\n",
      "Traj AM valid score : 0.328560213259\n",
      "Traj PM valid score : 11.1028680686\n",
      "Traj overall valid score 5.66782832824\n"
     ]
    }
   ],
   "source": [
    "val_x, val_y = feat.get_vol_Xy(dates=valid_dates, ampm='am')\n",
    "am_vol_val,am_vol_c = feagen.my_mape(am_vol_NN.predict(val_x).flatten(),val_y, return_total=True)\n",
    "\n",
    "\n",
    "\n",
    "val_x, val_y = feat.get_vol_Xy(dates=valid_dates, ampm='pm')\n",
    "pm_vol_val,pm_vol_c = feagen.my_mape(pm_vol_NN.predict(val_x).flatten(),val_y, return_total=True)\n",
    "#pm_vol_val,pm_vol_c = feagen.my_mape(clf.predict(val_x).flatten(),val_y)\n",
    "\n",
    "val_x, val_y = feat.get_tra_Xy(dates=valid_dates, ampm='am')\n",
    "am_tra_val,am_tra_c = feagen.my_mape(am_tra_NN.predict(val_x).flatten(),val_y, return_total=True)\n",
    "\n",
    "val_x, val_y = feat.get_tra_Xy(dates=valid_dates, ampm='pm')\n",
    "pm_tra_val,pm_tra_c = feagen.my_mape(pm_tra_NN.predict(val_x).flatten(),val_y, return_total=True)\n",
    "\n",
    "\n",
    "print 'Volume AM valid score :',am_vol_val\n",
    "print 'Volume PM valid score :',pm_vol_val\n",
    "print 'Volume overall valid score :',((am_vol_val*am_vol_c)+(pm_vol_val*pm_vol_c))/(am_vol_c+pm_vol_c)\n",
    "print 'Traj AM valid score :',am_tra_val\n",
    "print 'Traj PM valid score :',pm_tra_val\n",
    "print 'Traj overall valid score',((am_tra_val*am_tra_c)+(pm_tra_val*pm_tra_c))/(am_tra_c+pm_tra_c)"
   ]
  },
  {
   "cell_type": "markdown",
   "metadata": {},
   "source": [
    "# Testing Data"
   ]
  },
  {
   "cell_type": "code",
   "execution_count": 6,
   "metadata": {},
   "outputs": [],
   "source": [
    "\n",
    "time_delta = timedelta(minutes=20)\n",
    "\n",
    "\n",
    "vol_tolls = ['1', '1', '2', '3', '3']\n",
    "vol_dires = ['0', '1', '0', '0', '1']\n",
    "toll_dire = zip(vol_tolls, vol_dires)\n",
    "\n",
    "tra_intes = ['A', 'A', 'B', 'B', 'C', 'C']\n",
    "tra_tolls = [2, 3, 1, 3, 1, 3]\n",
    "inte_toll = zip(tra_intes, tra_tolls)\n",
    "\n",
    "\n",
    "with open('volume_pred.csv','w') as pred_vol:\n",
    "    ans = []\n",
    "    #predict am vol\n",
    "    test_dates = datetime.strptime('2016-10-18 08:00:00', \"%Y-%m-%d %H:%M:%S\")\n",
    "    ttx = feat.get_vol_X(dates=valid_dates, ampm='am')\n",
    "    tty = am_vol_NN.predict(ttx)\n",
    "    i = 0\n",
    "    for tol,dire in toll_dire:\n",
    "        for day in range(7):\n",
    "            for w in range(6):\n",
    "                ins = []\n",
    "                ins.append(tol)\n",
    "                ins.append('['+str(test_dates+w*time_delta)+','+str(test_dates+(w+1)*time_delta)+')')\n",
    "                ins.append(dire)\n",
    "                ins.append(tty[i])\n",
    "                i += 1\n",
    "                ans.append(ins)\n",
    "        test_dates += timedelta(days=1)\n",
    "    #predict pm vol\n",
    "    test_dates = datetime.strptime('2016-10-18 17:00:00', \"%Y-%m-%d %H:%M:%S\")\n",
    "    ttx = feat.get_vol_X(dates=valid_dates, ampm='pm')\n",
    "    tty = pm_vol_NN.predict(ttx)\n",
    "    i = 0\n",
    "    for tol,dire in toll_dire:\n",
    "        for day in range(7):\n",
    "            for w in range(6):\n",
    "                ins = []\n",
    "                ins.append(tol)\n",
    "                ins.append('['+str(test_dates+w*time_delta)+','+str(test_dates+(w+1)*time_delta)+')')\n",
    "                ins.append(dire)\n",
    "                ins.append(tty[i])\n",
    "                i += 1\n",
    "                ans.append(ins)\n",
    "        test_dates += timedelta(days=1)\n",
    "        \n",
    "        \n",
    "            \n",
    "    \n",
    "    \n",
    "with open('travel_time_pred.csv','w') as pred_tra:\n",
    "    ans = []\n",
    "    #predict am tra\n",
    "    test_dates = datetime.strptime('2016-10-18 08:00:00', \"%Y-%m-%d %H:%M:%S\")\n",
    "    ttx = feat.get_tra_X(dates=valid_dates, ampm='am')\n",
    "    tty = am_tra_NN.predict(ttx)\n",
    "    i = 0 \n",
    "    for inte,tol in inte_toll:\n",
    "        for day in range(7):\n",
    "            for w in range(6):\n",
    "                ins = []\n",
    "                ins.append(inte)\n",
    "                ins.append(tol)\n",
    "                ins.append('['+str(test_dates+w*time_delta)+','+str(test_dates+(w+1)*time_delta)+')')\n",
    "                ins.append(tty[i])\n",
    "                i += 1\n",
    "                ans.append(ins)\n",
    "        test_dates += timedelta(days=1)\n",
    "    #predict pm tra\n",
    "    test_dates = datetime.strptime('2016-10-18 17:00:00', \"%Y-%m-%d %H:%M:%S\")\n",
    "    ttx = feat.get_tra_X(dates=valid_dates, ampm='pm')\n",
    "    tty = am_tra_NN.predict(ttx)\n",
    "    i = 0 \n",
    "    for inte,tol in inte_toll:\n",
    "        for day in range(7):\n",
    "            for w in range(6):\n",
    "                ins = []\n",
    "                ins.append(inte)\n",
    "                ins.append(tol)\n",
    "                ins.append('['+str(test_dates+w*time_delta)+','+str(test_dates+(w+1)*time_delta)+')')\n",
    "                ins.append(tty[i])\n",
    "                i += 1\n",
    "                ans.append(ins)\n",
    "        test_dates += timedelta(days=1)"
   ]
  },
  {
   "cell_type": "code",
   "execution_count": 7,
   "metadata": {},
   "outputs": [
    {
     "name": "stdout",
     "output_type": "stream",
     "text": [
      "  col1 col2\n",
      "0  vol  tar\n",
      "1  vol  tar\n"
     ]
    }
   ],
   "source": [
    "d = {'col1': 'vol', 'col2': 'tar'}\n",
    "df = pd.DataFrame(data=d, index=[0,1])\n",
    "print df"
   ]
  }
 ],
 "metadata": {
  "kernelspec": {
   "display_name": "Python 2",
   "language": "python",
   "name": "python2"
  },
  "language_info": {
   "codemirror_mode": {
    "name": "ipython",
    "version": 2
   },
   "file_extension": ".py",
   "mimetype": "text/x-python",
   "name": "python",
   "nbconvert_exporter": "python",
   "pygments_lexer": "ipython2",
   "version": "2.7.11"
  }
 },
 "nbformat": 4,
 "nbformat_minor": 1
}
